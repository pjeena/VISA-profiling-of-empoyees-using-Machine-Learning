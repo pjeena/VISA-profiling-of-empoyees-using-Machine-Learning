{
 "cells": [
  {
   "cell_type": "code",
   "execution_count": null,
   "id": "28e1af5c",
   "metadata": {},
   "outputs": [],
   "source": [
    "import warnings\n",
    "warnings.filterwarnings(\"ignore\")\n",
    "\n",
    "import numpy as np   \n",
    "import pandas as pd  \n",
    "\n",
    "import seaborn as sns\n",
    "import matplotlib.pyplot as plt\n",
    "\n",
    "import scipy.stats as stats\n",
    "\n",
    "from sklearn.model_selection import train_test_split\n",
    "from sklearn.tree import DecisionTreeClassifier\n",
    "from sklearn import metrics\n",
    "from sklearn.metrics import confusion_matrix, classification_report, accuracy_score, precision_score, recall_score, f1_score, roc_auc_score\n",
    "from sklearn.model_selection import GridSearchCV\n",
    "\n",
    "from sklearn.ensemble import BaggingClassifier,RandomForestClassifier, GradientBoostingClassifier, AdaBoostClassifier, StackingClassifier\n",
    "from sklearn.model_selection import GridSearchCV\n",
    "from xgboost import XGBClassifier"
   ]
  },
  {
   "cell_type": "code",
   "execution_count": null,
   "id": "8506162d",
   "metadata": {},
   "outputs": [],
   "source": [
    "RAW_DATA_PATH = '/Users/piyush/Desktop/dsml_Portfolio/visa/data/raw/EasyVisa.csv'"
   ]
  },
  {
   "cell_type": "code",
   "execution_count": null,
   "id": "a4924f57",
   "metadata": {},
   "outputs": [],
   "source": [
    "df = pd.read_csv(RAW_DATA_PATH)"
   ]
  },
  {
   "cell_type": "code",
   "execution_count": null,
   "id": "96851f67",
   "metadata": {},
   "outputs": [],
   "source": [
    "df.shape"
   ]
  },
  {
   "cell_type": "code",
   "execution_count": null,
   "id": "8f48897b",
   "metadata": {},
   "outputs": [],
   "source": [
    "df.head()"
   ]
  },
  {
   "cell_type": "code",
   "execution_count": null,
   "id": "2c5d6316",
   "metadata": {},
   "outputs": [],
   "source": [
    "df.info()"
   ]
  },
  {
   "cell_type": "code",
   "execution_count": null,
   "id": "a4d3b436",
   "metadata": {},
   "outputs": [],
   "source": [
    "df.isna().sum()"
   ]
  },
  {
   "cell_type": "code",
   "execution_count": null,
   "id": "87bbdd75",
   "metadata": {},
   "outputs": [],
   "source": [
    "df.describe().T"
   ]
  },
  {
   "cell_type": "code",
   "execution_count": null,
   "id": "937e805d",
   "metadata": {},
   "outputs": [],
   "source": [
    "df.drop(['case_id'],axis=1,inplace=True)"
   ]
  },
  {
   "cell_type": "code",
   "execution_count": null,
   "id": "002aa274",
   "metadata": {},
   "outputs": [],
   "source": [
    "df[df.duplicated()].count()\n"
   ]
  },
  {
   "cell_type": "code",
   "execution_count": null,
   "id": "c3a8cf1f",
   "metadata": {},
   "outputs": [],
   "source": [
    "def histogram_boxplot(data, feature, figsize=(12, 7), kde=False, bins=None):\n",
    "    \"\"\"\n",
    "    Boxplot and histogram combined\n",
    "\n",
    "    data: dataframe\n",
    "    feature: dataframe column\n",
    "    figsize: size of figure (default (12,7))\n",
    "    kde: whether to show the density curve (default False)\n",
    "    bins: number of bins for histogram (default None)\n",
    "    \"\"\"\n",
    "    f2, (ax_box2, ax_hist2) = plt.subplots(\n",
    "        nrows=2,  # Number of rows of the subplot grid= 2\n",
    "        sharex=True,  # x-axis will be shared among all subplots\n",
    "        gridspec_kw={\"height_ratios\": (0.25, 0.75)},\n",
    "        figsize=figsize,\n",
    "    )  # creating the 2 subplots\n",
    "    sns.boxplot(\n",
    "        data=data, x=feature, ax=ax_box2, showmeans=True, color=\"violet\"\n",
    "    )  # boxplot will be created and a star will indicate the mean value of the column\n",
    "    sns.histplot(\n",
    "        data=data, x=feature, kde=kde, ax=ax_hist2, bins=bins, palette=\"winter\"\n",
    "    ) if bins else sns.histplot(\n",
    "        data=data, x=feature, kde=kde, ax=ax_hist2\n",
    "    )  # For histogram\n",
    "    ax_hist2.axvline(\n",
    "        data[feature].mean(), color=\"green\", linestyle=\"--\"\n",
    "    )  # Add mean to the histogram\n",
    "    ax_hist2.axvline(\n",
    "        data[feature].median(), color=\"black\", linestyle=\"-\"\n",
    "    )  # Add median to the histogram"
   ]
  },
  {
   "cell_type": "code",
   "execution_count": null,
   "id": "28abfc75",
   "metadata": {},
   "outputs": [],
   "source": [
    "data = df.copy()"
   ]
  },
  {
   "cell_type": "code",
   "execution_count": null,
   "id": "a76151a7",
   "metadata": {},
   "outputs": [],
   "source": [
    "data.drop(data[(data[\"no_of_employees\"]<=0)].index, inplace=True)\n"
   ]
  },
  {
   "cell_type": "code",
   "execution_count": null,
   "id": "3ef3a17a",
   "metadata": {},
   "outputs": [],
   "source": [
    "data.shape"
   ]
  },
  {
   "cell_type": "code",
   "execution_count": null,
   "id": "9bc3308c",
   "metadata": {},
   "outputs": [],
   "source": [
    "histogram_boxplot(data, \"no_of_employees\")\n"
   ]
  },
  {
   "cell_type": "code",
   "execution_count": null,
   "id": "f6acf5c2",
   "metadata": {},
   "outputs": [],
   "source": [
    "histogram_boxplot(data, \"yr_of_estab\")\n"
   ]
  },
  {
   "cell_type": "code",
   "execution_count": null,
   "id": "4bf0ec1c",
   "metadata": {},
   "outputs": [],
   "source": [
    "def labeled_barplot(data, feature, perc=False, n=None):\n",
    "    \"\"\"\n",
    "    Barplot with percentage at the top\n",
    "\n",
    "    data: dataframe\n",
    "    feature: dataframe column\n",
    "    perc: whether to display percentages instead of count (default is False)\n",
    "    n: displays the top n category levels (default is None, i.e., display all levels)\n",
    "    \"\"\"\n",
    "\n",
    "    total = len(data[feature])  # length of the column\n",
    "    count = data[feature].nunique()\n",
    "    if n is None:\n",
    "        plt.figure(figsize=(count + 1, 5))\n",
    "    else:\n",
    "        plt.figure(figsize=(n + 1, 5))\n",
    "\n",
    "    plt.xticks(rotation=90, fontsize=15)\n",
    "    ax = sns.countplot(\n",
    "        data=data,\n",
    "        x=feature,\n",
    "        palette=\"Paired\",\n",
    "        order=data[feature].value_counts().index[:n].sort_values(),\n",
    "    )\n",
    "\n",
    "    for p in ax.patches:\n",
    "        if perc == True:\n",
    "            label = \"{:.1f}%\".format(\n",
    "                100 * p.get_height() / total\n",
    "            )  # percentage of each class of the category\n",
    "        else:\n",
    "            label = p.get_height()  # count of each level of the category\n",
    "            \n",
    "        x = p.get_x() + p.get_width() / 2  # width of the plot\n",
    "        y = p.get_height()  # height of the plot\n",
    "\n",
    "        ax.annotate(\n",
    "            label,\n",
    "            (x, y),\n",
    "            ha=\"center\",\n",
    "            va=\"center\",\n",
    "            size=12,\n",
    "            xytext=(0, 5),\n",
    "            textcoords=\"offset points\",\n",
    "        )  # annotate the percentage\n",
    "\n",
    "    plt.show()  # show the plot"
   ]
  },
  {
   "cell_type": "code",
   "execution_count": null,
   "id": "9e90443c",
   "metadata": {},
   "outputs": [],
   "source": [
    "labeled_barplot(data, \"unit_of_wage\", perc=True);\n"
   ]
  },
  {
   "cell_type": "code",
   "execution_count": null,
   "id": "a2e29f5d",
   "metadata": {},
   "outputs": [],
   "source": [
    "histogram_boxplot(data[(data[\"unit_of_wage\"]==\"Year\")], \"prevailing_wage\")\n"
   ]
  },
  {
   "cell_type": "code",
   "execution_count": null,
   "id": "71716741",
   "metadata": {},
   "outputs": [],
   "source": [
    "histogram_boxplot(data[(data[\"unit_of_wage\"]==\"Month\")], \"prevailing_wage\")\n"
   ]
  },
  {
   "cell_type": "code",
   "execution_count": null,
   "id": "9b10ce55",
   "metadata": {},
   "outputs": [],
   "source": [
    "histogram_boxplot(data[(data[\"unit_of_wage\"]==\"Week\")], \"prevailing_wage\")\n"
   ]
  },
  {
   "cell_type": "code",
   "execution_count": null,
   "id": "79d4b509",
   "metadata": {},
   "outputs": [],
   "source": [
    "histogram_boxplot(data[data[\"unit_of_wage\"]==\"Hour\"], \"prevailing_wage\")\n"
   ]
  },
  {
   "cell_type": "code",
   "execution_count": null,
   "id": "341289e3",
   "metadata": {},
   "outputs": [],
   "source": [
    "data.loc[data[\"unit_of_wage\"]==\"Hour\", \"prevailing_wage\"] = \\\n",
    "data.loc[data[\"unit_of_wage\"]==\"Hour\", \"prevailing_wage\"]*52"
   ]
  },
  {
   "cell_type": "code",
   "execution_count": null,
   "id": "fa1d6295",
   "metadata": {},
   "outputs": [],
   "source": [
    "data[\"unit_of_wage\"] = data[\"unit_of_wage\"].astype('object')\n",
    "data.loc[data[\"unit_of_wage\"]==\"Hour\", \"unit_of_wage\"] = \"Hourly\"\n",
    "data.loc[data[\"unit_of_wage\"]==\"Week\", \"unit_of_wage\"] = \"Not_Hourly\"\n",
    "data.loc[data[\"unit_of_wage\"]==\"Month\", \"unit_of_wage\"] = \"Not_Hourly\"\n",
    "data.loc[data[\"unit_of_wage\"]==\"Year\", \"unit_of_wage\"] = \"Not_Hourly\"\n",
    "data[\"unit_of_wage\"] = data[\"unit_of_wage\"].astype('category')"
   ]
  },
  {
   "cell_type": "code",
   "execution_count": null,
   "id": "0c47aee2",
   "metadata": {},
   "outputs": [],
   "source": [
    "labeled_barplot(data, \"unit_of_wage\", perc=True)\n"
   ]
  },
  {
   "cell_type": "code",
   "execution_count": null,
   "id": "149e2487",
   "metadata": {},
   "outputs": [],
   "source": [
    "histogram_boxplot(data, \"prevailing_wage\")\n"
   ]
  },
  {
   "cell_type": "code",
   "execution_count": null,
   "id": "f14fe2a4",
   "metadata": {},
   "outputs": [],
   "source": [
    "labeled_barplot(data, \"continent\", perc=True)\n"
   ]
  },
  {
   "cell_type": "code",
   "execution_count": null,
   "id": "4b260af0",
   "metadata": {},
   "outputs": [],
   "source": [
    "labeled_barplot(data, \"education_of_employee\", perc=True)\n"
   ]
  },
  {
   "cell_type": "code",
   "execution_count": null,
   "id": "a25f754d",
   "metadata": {},
   "outputs": [],
   "source": [
    "labeled_barplot(data, \"has_job_experience\", perc=True)\n"
   ]
  },
  {
   "cell_type": "code",
   "execution_count": null,
   "id": "2580ddfa",
   "metadata": {},
   "outputs": [],
   "source": [
    "labeled_barplot(data, \"requires_job_training\", perc=True)\n"
   ]
  },
  {
   "cell_type": "code",
   "execution_count": null,
   "id": "af06bc81",
   "metadata": {},
   "outputs": [],
   "source": [
    "labeled_barplot(data, \"region_of_employment\", perc=True)\n"
   ]
  },
  {
   "cell_type": "code",
   "execution_count": null,
   "id": "bc7efc71",
   "metadata": {},
   "outputs": [],
   "source": [
    "labeled_barplot(data, \"full_time_position\", perc=True)\n"
   ]
  },
  {
   "cell_type": "code",
   "execution_count": null,
   "id": "4b452845",
   "metadata": {},
   "outputs": [],
   "source": [
    "labeled_barplot(data, \"case_status\", perc=True)\n"
   ]
  },
  {
   "cell_type": "code",
   "execution_count": null,
   "id": "dd83b118",
   "metadata": {},
   "outputs": [],
   "source": [
    "#number of employees and case status\n",
    "fig,ax=plt.subplots(1,2, figsize=(15,5))\n",
    "sns.histplot(data=data[data[\"no_of_employees\"]<20000], x=\"no_of_employees\", hue=\"case_status\", ax=ax[0]);\n",
    "sns.histplot(data=data[data[\"no_of_employees\"]>20000], x=\"no_of_employees\", hue=\"case_status\", ax=ax[1]);"
   ]
  },
  {
   "cell_type": "code",
   "execution_count": null,
   "id": "64755257",
   "metadata": {},
   "outputs": [],
   "source": [
    "data[\"no_of_employees\"] = pd.cut( data[\"no_of_employees\"], \\\n",
    "                                  [0, 2500, 7500, np.inf], \\\n",
    "                                  labels = [\"Small_Sized(<2500employees)\", \\\n",
    "                                            \"Medium_Sized(2500-7500employees)\", \\\n",
    "                                            \"Large_Sized(>75000employees)\"])\n",
    "data[\"no_of_employees\"] = data[\"no_of_employees\"].astype(\"category\")"
   ]
  },
  {
   "cell_type": "code",
   "execution_count": null,
   "id": "1790869c",
   "metadata": {},
   "outputs": [],
   "source": [
    "data['no_of_employees']"
   ]
  },
  {
   "cell_type": "code",
   "execution_count": null,
   "id": "6d2c8de6",
   "metadata": {},
   "outputs": [],
   "source": [
    "def stacked_barplot(data, predictor, target):\n",
    "    \"\"\"\n",
    "    Print the category counts and plot a stacked bar chart\n",
    "\n",
    "    data: dataframe\n",
    "    predictor: independent variable\n",
    "    target: target variable\n",
    "    \"\"\"\n",
    "    count = data[predictor].nunique()\n",
    "    sorter = data[target].value_counts().index[-1]\n",
    "    tab1 = pd.crosstab(data[predictor], data[target], margins=True).sort_values(\n",
    "        by=sorter, ascending=False\n",
    "    )\n",
    "    print(tab1)\n",
    "    print(\"-\" * 120)\n",
    "    tab = pd.crosstab(data[predictor], data[target], normalize=\"index\").sort_values(\n",
    "        by=sorter, ascending=False\n",
    "    )\n",
    "    tab.plot(kind=\"bar\", stacked=True, figsize=(count + 5, 5))\n",
    "    plt.legend(\n",
    "        loc=\"lower left\", frameon=False,\n",
    "    )\n",
    "    plt.legend(loc=\"upper left\", bbox_to_anchor=(1, 1))\n",
    "    plt.show()"
   ]
  },
  {
   "cell_type": "code",
   "execution_count": null,
   "id": "37674e35",
   "metadata": {},
   "outputs": [],
   "source": [
    "stacked_barplot(data, \"no_of_employees\", \"case_status\")\n"
   ]
  },
  {
   "cell_type": "code",
   "execution_count": null,
   "id": "f5187ec6",
   "metadata": {},
   "outputs": [],
   "source": [
    "#year of establishment and case_status\n",
    "plt.figure(figsize=(20,5))\n",
    "sns.histplot(data, x=\"yr_of_estab\", hue=\"case_status\");"
   ]
  },
  {
   "cell_type": "code",
   "execution_count": null,
   "id": "06ec6cd8",
   "metadata": {},
   "outputs": [],
   "source": [
    "data[\"yr_of_estab\"] = pd.cut( data[\"yr_of_estab\"], \\\n",
    "                                  [-np.inf, 1990, np.inf], \\\n",
    "                                  labels = [\"Older_Estab(1800-1990)\", \\\n",
    "                                            \"Newer_Estab(>1990)\"])\n",
    "data[\"yr_of_estab\"] = data[\"yr_of_estab\"].astype(\"category\")"
   ]
  },
  {
   "cell_type": "code",
   "execution_count": null,
   "id": "4c77708c",
   "metadata": {},
   "outputs": [],
   "source": [
    "data"
   ]
  },
  {
   "cell_type": "code",
   "execution_count": null,
   "id": "6ae0372a",
   "metadata": {},
   "outputs": [],
   "source": [
    "#prevailing_wage and case_status\n",
    "\n",
    "plt.figure(figsize=(20,5))\n",
    "sns.histplot(data, x=\"prevailing_wage\", hue=\"case_status\");"
   ]
  },
  {
   "cell_type": "code",
   "execution_count": null,
   "id": "380123b9",
   "metadata": {},
   "outputs": [],
   "source": [
    "stacked_barplot(data, \"continent\", \"case_status\")\n"
   ]
  },
  {
   "cell_type": "code",
   "execution_count": null,
   "id": "b771b91f",
   "metadata": {},
   "outputs": [],
   "source": [
    "data[\"case_status\"] = data[\"case_status\"].apply(lambda x: 0 if x == \"Denied\" else 1)\n"
   ]
  },
  {
   "cell_type": "code",
   "execution_count": null,
   "id": "7f240b01",
   "metadata": {},
   "outputs": [],
   "source": [
    "data"
   ]
  },
  {
   "cell_type": "code",
   "execution_count": null,
   "id": "31907147",
   "metadata": {},
   "outputs": [],
   "source": [
    "X = data.drop(\"case_status\", axis=1)\n",
    "y = data[\"case_status\"]"
   ]
  },
  {
   "cell_type": "code",
   "execution_count": null,
   "id": "ae513422",
   "metadata": {},
   "outputs": [],
   "source": [
    "X = pd.get_dummies(X, drop_first=True)\n"
   ]
  },
  {
   "cell_type": "code",
   "execution_count": null,
   "id": "72a5283a",
   "metadata": {},
   "outputs": [],
   "source": [
    "X_train, X_test, y_train, y_test = train_test_split(X, y, test_size=0.30, random_state=1, stratify=y)\n"
   ]
  },
  {
   "cell_type": "code",
   "execution_count": null,
   "id": "2357e8f5",
   "metadata": {},
   "outputs": [],
   "source": [
    "X_train.shape, X_test.shape\n"
   ]
  },
  {
   "cell_type": "code",
   "execution_count": null,
   "id": "8abc5942",
   "metadata": {},
   "outputs": [],
   "source": [
    "# defining a function to compute different metrics to check performance of a classification model built using sklearn\n",
    "def model_performance_classification_sklearn(model, predictors, target):\n",
    "    \"\"\"\n",
    "    Function to compute different metrics to check classification model performance\n",
    "\n",
    "    model: classifier\n",
    "    predictors: independent variables\n",
    "    target: dependent variable\n",
    "    \"\"\"\n",
    "\n",
    "    # predicting using the independent variables\n",
    "    pred = model.predict(predictors)\n",
    "\n",
    "    acc = accuracy_score(target, pred)  # to compute Accuracy\n",
    "    recall = recall_score(target, pred)  # to compute Recall\n",
    "    precision = precision_score(target, pred)  # to compute Precision\n",
    "    f1 = f1_score(target, pred)  # to compute F1-score\n",
    "\n",
    "    # creating a dataframe of metrics\n",
    "    df_perf = pd.DataFrame(\n",
    "        {\n",
    "            \"Accuracy\": acc,\n",
    "            \"Recall\": recall,\n",
    "            \"Precision\": precision,\n",
    "            \"F1\": f1,\n",
    "        },\n",
    "        index=[0],\n",
    "    )\n",
    "\n",
    "    return df_perf"
   ]
  },
  {
   "cell_type": "code",
   "execution_count": null,
   "id": "3af5f742",
   "metadata": {},
   "outputs": [],
   "source": [
    "def confusion_matrix_sklearn(model, predictors, target):\n",
    "    \"\"\"\n",
    "    To plot the confusion_matrix with percentages\n",
    "\n",
    "    model: classifier\n",
    "    predictors: independent variables\n",
    "    target: dependent variable\n",
    "    \"\"\"\n",
    "    y_pred = model.predict(predictors)\n",
    "    cm = confusion_matrix(target, y_pred)\n",
    "    labels = np.asarray(\n",
    "        [\n",
    "            [\"{0:0.0f}\".format(item) + \"\\n{0:.2%}\".format(item / cm.flatten().sum())]\n",
    "            for item in cm.flatten()\n",
    "        ]\n",
    "    ).reshape(2, 2)\n",
    "\n",
    "    plt.figure(figsize=(6, 4))\n",
    "    sns.heatmap(cm, annot=labels, fmt=\"\")\n",
    "    plt.ylabel(\"True label\")\n",
    "    plt.xlabel(\"Predicted label\")"
   ]
  },
  {
   "cell_type": "code",
   "execution_count": null,
   "id": "5c8affb8",
   "metadata": {},
   "outputs": [],
   "source": [
    "#Fitting the model\n",
    "d_tree = DecisionTreeClassifier(random_state=1)\n",
    "d_tree.fit(X_train,y_train)\n",
    "\n",
    "#Calculating different metrics\n",
    "d_tree_model_train_perf=model_performance_classification_sklearn(d_tree,X_train,y_train)\n",
    "print(\"Training performance:\\n\",d_tree_model_train_perf)\n",
    "d_tree_model_test_perf=model_performance_classification_sklearn(d_tree,X_test,y_test)\n",
    "print(\"Testing performance:\\n\",d_tree_model_test_perf)\n",
    "\n",
    "#Creating confusion matrix\n",
    "confusion_matrix_sklearn(d_tree,X_test,y_test)"
   ]
  },
  {
   "cell_type": "code",
   "execution_count": null,
   "id": "c0d7c162",
   "metadata": {},
   "outputs": [],
   "source": [
    "#Choose the type of classifier. \n",
    "dtree_estimator = DecisionTreeClassifier(class_weight={0:0.668,1:0.332},random_state=1)\n",
    "\n",
    "# Grid of parameters to choose from\n",
    "parameters = {'max_depth': np.arange(2,30), \n",
    "              'min_samples_leaf': [1, 2, 5, 7, 10],\n",
    "              'max_leaf_nodes' : [2, 3, 5, 10,15],\n",
    "              'min_impurity_decrease': [0.0001,0.001,0.01,0.1]\n",
    "             }\n",
    "\n",
    "# Type of scoring used to compare parameter combinations\n",
    "scorer = metrics.make_scorer(metrics.f1_score)\n",
    "\n",
    "# Run the grid search\n",
    "grid_obj = GridSearchCV(dtree_estimator, parameters, scoring=scorer,n_jobs=-1)\n",
    "grid_obj = grid_obj.fit(X_train, y_train)\n",
    "\n",
    "# Set the clf to the best combination of parameters\n",
    "dtree_estimator = grid_obj.best_estimator_\n",
    "\n",
    "# Fit the best algorithm to the data. \n",
    "dtree_estimator.fit(X_train, y_train)"
   ]
  },
  {
   "cell_type": "code",
   "execution_count": null,
   "id": "733dff3d",
   "metadata": {},
   "outputs": [],
   "source": [
    "#Calculating different metrics\n",
    "dtree_estimator_model_train_perf=model_performance_classification_sklearn(dtree_estimator,X_train,y_train)\n",
    "print(\"Training performance:\\n\",dtree_estimator_model_train_perf)\n",
    "dtree_estimator_model_test_perf=model_performance_classification_sklearn(dtree_estimator,X_test,y_test)\n",
    "print(\"Testing performance:\\n\",dtree_estimator_model_test_perf)\n",
    "\n",
    "#Creating confusion matrix\n",
    "confusion_matrix_sklearn(dtree_estimator,X_test,y_test)"
   ]
  },
  {
   "cell_type": "code",
   "execution_count": null,
   "id": "0f65f78a",
   "metadata": {},
   "outputs": [],
   "source": [
    "#Fitting the model\n",
    "rf_estimator = RandomForestClassifier(random_state=1)\n",
    "rf_estimator.fit(X_train,y_train)\n",
    "\n",
    "#Calculating different metrics\n",
    "rf_estimator_model_train_perf=model_performance_classification_sklearn(rf_estimator,X_train,y_train)\n",
    "print(\"Training performance:\\n\",rf_estimator_model_train_perf)\n",
    "rf_estimator_model_test_perf=model_performance_classification_sklearn(rf_estimator,X_test,y_test)\n",
    "print(\"Testing performance:\\n\",rf_estimator_model_test_perf)\n",
    "\n",
    "#Creating confusion matrix\n",
    "confusion_matrix_sklearn(rf_estimator,X_test,y_test)"
   ]
  },
  {
   "cell_type": "code",
   "execution_count": null,
   "id": "cdd8aa4b",
   "metadata": {},
   "outputs": [],
   "source": [
    "# Choose the type of classifier. \n",
    "rf_tuned = RandomForestClassifier(class_weight={0:0.668,1:0.332},random_state=1,oob_score=True,bootstrap=True)\n",
    "\n",
    "parameters = {  \n",
    "                'max_depth': list(np.arange(10,30,10)) + [None],\n",
    "                'max_features': ['sqrt',None],\n",
    "                'min_samples_leaf': np.arange(5,15,5),\n",
    "                'min_samples_split': np.arange(5, 20, 5),\n",
    "                'n_estimators': np.arange(20,120,40)}\n",
    "\n",
    "\n",
    "# Type of scoring used to compare parameter combinations\n",
    "scorer = metrics.make_scorer(metrics.f1_score)\n",
    "\n",
    "# Run the grid search\n",
    "grid_obj = GridSearchCV(rf_tuned, parameters, scoring=scorer, cv=3,n_jobs=-1)\n",
    "grid_obj = grid_obj.fit(X_train, y_train)\n",
    "\n",
    "# Set the clf to the best combination of parameters\n",
    "rf_tuned = grid_obj.best_estimator_\n",
    "\n",
    "# Fit the best algorithm to the data. \n",
    "rf_tuned.fit(X_train, y_train)"
   ]
  },
  {
   "cell_type": "code",
   "execution_count": null,
   "id": "2abff401",
   "metadata": {},
   "outputs": [],
   "source": [
    "#Calculating different metrics\n",
    "rf_tuned_model_train_perf=model_performance_classification_sklearn(rf_tuned,X_train,y_train)\n",
    "print(\"Training performance:\\n\",rf_tuned_model_train_perf)\n",
    "rf_tuned_model_test_perf=model_performance_classification_sklearn(rf_tuned,X_test,y_test)\n",
    "print(\"Testing performance:\\n\",rf_tuned_model_test_perf)\n",
    "\n",
    "#Creating confusion matrix\n",
    "confusion_matrix_sklearn(rf_tuned,X_test,y_test)"
   ]
  },
  {
   "cell_type": "code",
   "execution_count": null,
   "id": "d5b89a0d",
   "metadata": {},
   "outputs": [],
   "source": [
    "#Fitting the model\n",
    "xgb_classifier = XGBClassifier(random_state=1, eval_metric='logloss')\n",
    "xgb_classifier.fit(X_train,y_train)\n",
    "\n",
    "#Calculating different metrics\n",
    "xgb_classifier_model_train_perf=model_performance_classification_sklearn(xgb_classifier,X_train,y_train)\n",
    "print(\"Training performance:\\n\",xgb_classifier_model_train_perf)\n",
    "xgb_classifier_model_test_perf=model_performance_classification_sklearn(xgb_classifier,X_test,y_test)\n",
    "print(\"Testing performance:\\n\",xgb_classifier_model_test_perf)\n",
    "\n",
    "#Creating confusion matrix\n",
    "confusion_matrix_sklearn(xgb_classifier,X_test,y_test)"
   ]
  },
  {
   "cell_type": "code",
   "execution_count": null,
   "id": "55f56887",
   "metadata": {},
   "outputs": [],
   "source": [
    "# Choose the type of classifier. \n",
    "xgb_tuned = XGBClassifier(random_state=1, eval_metric='logloss')\n",
    "\n",
    "# Grid of parameters to choose from\n",
    "parameters = {\n",
    "    \"n_estimators\": [10,30,50],\n",
    "    \"scale_pos_weight\":[1,2,5],\n",
    "    \"subsample\":[0.7,0.9,1],\n",
    "    \"learning_rate\":[0.05, 0.1,0.2],\n",
    "    \"colsample_bytree\":[0.7,0.9,1],\n",
    "    \"colsample_bylevel\":[0.5,0.7,1]\n",
    "}\n",
    "\n",
    "# Type of scoring used to compare parameter combinations\n",
    "scorer = metrics.make_scorer(metrics.f1_score)\n",
    "\n",
    "# Run the grid search\n",
    "grid_obj = GridSearchCV(xgb_tuned, parameters,scoring=scorer,cv=3)\n",
    "grid_obj = grid_obj.fit(X_train, y_train)\n",
    "\n",
    "# Set the clf to the best combination of parameters\n",
    "xgb_tuned = grid_obj.best_estimator_\n",
    "\n",
    "# Fit the best algorithm to the data.\n",
    "xgb_tuned.fit(X_train, y_train)"
   ]
  },
  {
   "cell_type": "code",
   "execution_count": null,
   "id": "9e4cb2f4",
   "metadata": {},
   "outputs": [],
   "source": [
    "#Calculating different metrics\n",
    "xgb_tuned_model_train_perf=model_performance_classification_sklearn(xgb_tuned,X_train,y_train)\n",
    "print(\"Training performance:\\n\",xgb_tuned_model_train_perf)\n",
    "xgb_tuned_model_test_perf=model_performance_classification_sklearn(xgb_tuned,X_test,y_test)\n",
    "print(\"Testing performance:\\n\",xgb_tuned_model_test_perf)\n",
    "\n",
    "#Creating confusion matrix\n",
    "confusion_matrix_sklearn(xgb_tuned,X_test,y_test)"
   ]
  },
  {
   "cell_type": "code",
   "execution_count": null,
   "id": "2beebe91",
   "metadata": {},
   "outputs": [],
   "source": [
    "feature_names = X_train.columns\n",
    "importances = xgb_tuned.feature_importances_\n",
    "indices = np.argsort(importances)\n",
    "\n",
    "plt.figure(figsize=(12,12))\n",
    "plt.title('Feature Importances')\n",
    "plt.barh(range(len(indices)), importances[indices], color='violet', align='center')\n",
    "plt.yticks(range(len(indices)), [feature_names[i] for i in indices])\n",
    "plt.xlabel('Relative Importance')\n",
    "plt.show()"
   ]
  },
  {
   "cell_type": "code",
   "execution_count": null,
   "id": "e76d24f6",
   "metadata": {},
   "outputs": [],
   "source": []
  },
  {
   "cell_type": "code",
   "execution_count": null,
   "id": "b37b624e",
   "metadata": {},
   "outputs": [],
   "source": []
  },
  {
   "cell_type": "code",
   "execution_count": null,
   "id": "03374d38",
   "metadata": {},
   "outputs": [],
   "source": []
  },
  {
   "cell_type": "code",
   "execution_count": 1,
   "id": "e0b6f890",
   "metadata": {},
   "outputs": [],
   "source": [
    "from sklearn.datasets import load_iris\n",
    "from sklearn.tree import DecisionTreeClassifier\n",
    "from sklearn.neighbors import KNeighborsClassifier\n",
    "from sklearn.model_selection import train_test_split\n",
    "from sklearn import metrics\n",
    "import mlflow\n",
    "import mlflow.sklearn"
   ]
  },
  {
   "cell_type": "code",
   "execution_count": 2,
   "id": "6d59de64",
   "metadata": {},
   "outputs": [],
   "source": [
    "data = load_iris()\n"
   ]
  },
  {
   "cell_type": "code",
   "execution_count": 3,
   "id": "f09fd55f",
   "metadata": {},
   "outputs": [],
   "source": [
    "X=data.data\n",
    "y=data.target\n",
    "     "
   ]
  },
  {
   "cell_type": "code",
   "execution_count": 4,
   "id": "4be73cf0",
   "metadata": {},
   "outputs": [],
   "source": [
    "X_train, X_test, y_train, y_test = train_test_split(X, y, test_size=0.25, random_state=10)\n"
   ]
  },
  {
   "cell_type": "code",
   "execution_count": 5,
   "id": "3a893e51",
   "metadata": {},
   "outputs": [
    {
     "name": "stderr",
     "output_type": "stream",
     "text": [
      "/var/folders/hk/dkqk41797ls590n4w_sfpy180000gn/T/ipykernel_4692/1484033526.py:31: MatplotlibDeprecationWarning: The w_xaxis attribute was deprecated in Matplotlib 3.1 and will be removed in 3.8. Use xaxis instead.\n",
      "  ax.w_xaxis.set_ticklabels([])\n",
      "/var/folders/hk/dkqk41797ls590n4w_sfpy180000gn/T/ipykernel_4692/1484033526.py:33: MatplotlibDeprecationWarning: The w_yaxis attribute was deprecated in Matplotlib 3.1 and will be removed in 3.8. Use yaxis instead.\n",
      "  ax.w_yaxis.set_ticklabels([])\n",
      "/var/folders/hk/dkqk41797ls590n4w_sfpy180000gn/T/ipykernel_4692/1484033526.py:35: MatplotlibDeprecationWarning: The w_zaxis attribute was deprecated in Matplotlib 3.1 and will be removed in 3.8. Use zaxis instead.\n",
      "  ax.w_zaxis.set_ticklabels([])\n"
     ]
    },
    {
     "data": {
      "image/png": "[encoded data removed]",
      "text/plain": [
       "<Figure size 800x600 with 1 Axes>"
      ]
     },
     "metadata": {},
     "output_type": "display_data"
    }
   ],
   "source": [
    "import matplotlib.pyplot as plt\n",
    "from mpl_toolkits.mplot3d import Axes3D\n",
    "from sklearn.decomposition import PCA\n",
    "\n",
    "X = data.data[:, :2] \n",
    "y = data.target\n",
    "\n",
    "x_min, x_max = X[:, 0].min() - .5, X[:, 0].max() + .5\n",
    "y_min, y_max = X[:, 1].min() - .5, X[:, 1].max() + .5\n",
    "plt.figure(2, figsize=(8, 6))\n",
    "plt.clf()\n",
    "\n",
    "# Plot the training points\n",
    "plt.scatter(X[:, 0], X[:, 1], c=y, cmap=plt.cm.Set1,\n",
    "            edgecolor='k')\n",
    "plt.xlabel('Sepal length')\n",
    "plt.ylabel('Sepal width')\n",
    "\n",
    "plt.xlim(x_min, x_max)\n",
    "plt.ylim(y_min, y_max)\n",
    "plt.xticks(())\n",
    "plt.yticks(())\n",
    "\n",
    "fig = plt.figure(1, figsize=(8, 6))\n",
    "ax = Axes3D(fig, elev=-150, azim=110)\n",
    "X_reduced = PCA(n_components=3).fit_transform(data.data)\n",
    "ax.scatter(X_reduced[:, 0], X_reduced[:, 1], X_reduced[:, 2], c=y,\n",
    "           cmap=plt.cm.Set1, edgecolor='k', s=40)\n",
    "ax.set_title(\"First three PCA directions\")\n",
    "ax.set_xlabel(\"1st eigenvector\")\n",
    "ax.w_xaxis.set_ticklabels([])\n",
    "ax.set_ylabel(\"2nd eigenvector\")\n",
    "ax.w_yaxis.set_ticklabels([])\n",
    "ax.set_zlabel(\"3rd eigenvector\")\n",
    "ax.w_zaxis.set_ticklabels([])\n",
    "\n",
    "fig.savefig('iris1.png')\n",
    "plt.close(fig)\n",
    "\n",
    "display()\n"
   ]
  },
  {
   "cell_type": "code",
   "execution_count": null,
   "id": "c36eeb45",
   "metadata": {},
   "outputs": [],
   "source": []
  },
  {
   "cell_type": "code",
   "execution_count": 6,
   "id": "1110e368",
   "metadata": {},
   "outputs": [
    {
     "name": "stdout",
     "output_type": "stream",
     "text": [
      "0.9736842105263158\n"
     ]
    }
   ],
   "source": [
    "with mlflow.start_run():\n",
    "  dtc = DecisionTreeClassifier(random_state=10)\n",
    "  dtc.fit(X_train, y_train)\n",
    "  y_pred_class = dtc.predict(X_test)\n",
    "  accuracy= metrics.accuracy_score(y_test, y_pred_class)\n",
    "  \n",
    "  print(accuracy)\n",
    "  \n",
    "  mlflow.log_param(\"random_state\", 10)\n",
    "  mlflow.log_metric(\"accuracy\", accuracy)\n",
    "  mlflow.sklearn.log_model(dtc, \"model\")\n",
    "  modelpath = \"/Users/piyush/Desktop/dsml_Portfolio/visa/models/models-%s-%f\" % (\"decision_tree\", 1)\n",
    "  mlflow.sklearn.save_model(dtc, modelpath)  \n",
    "  \n",
    "  mlflow.log_artifact(\"iris1.png\")\n",
    "     "
   ]
  },
  {
   "cell_type": "code",
   "execution_count": 7,
   "id": "795f2e24",
   "metadata": {},
   "outputs": [
    {
     "name": "stdout",
     "output_type": "stream",
     "text": [
      "0.6052631578947368\n"
     ]
    }
   ],
   "source": [
    "with mlflow.start_run():\n",
    "  dtc = DecisionTreeClassifier(max_depth=1, random_state=10)\n",
    "  dtc.fit(X_train, y_train)\n",
    "  y_pred_class = dtc.predict(X_test)\n",
    "  accuracy= metrics.accuracy_score(y_test, y_pred_class)\n",
    "  \n",
    "  print(accuracy)\n",
    "  \n",
    "  mlflow.log_param(\"random_state\", 10)\n",
    "  mlflow.log_param(\"max_depth\", 1)\n",
    "  mlflow.log_metric(\"accuracy\", accuracy)\n",
    "  mlflow.sklearn.log_model(dtc, \"model\")\n",
    "  modelpath = \"/Users/piyush/Desktop/dsml_Portfolio/visa/models/model-%s-%f\" % (\"decision_tree\", 2)\n",
    "  mlflow.sklearn.save_model(dtc, modelpath)  "
   ]
  },
  {
   "cell_type": "code",
   "execution_count": null,
   "id": "feaf72d2",
   "metadata": {},
   "outputs": [
    {
     "name": "stdout",
     "output_type": "stream",
     "text": [
      "0.6052631578947368\n"
     ]
    }
   ],
   "source": [
    "with mlflow.start_run():\n",
    "  dtc = DecisionTreeClassifier(max_depth=1, min_samples_split=5, random_state=10)\n",
    "  dtc.fit(X_train, y_train)\n",
    "  y_pred_class = dtc.predict(X_test)\n",
    "  accuracy= metrics.accuracy_score(y_test, y_pred_class)\n",
    "  \n",
    "  print(accuracy)\n",
    "  \n",
    "  mlflow.log_param(\"random_state\", 10)\n",
    "  mlflow.log_param(\"max_depth\", 1)\n",
    "  mlflow.log_param(\"min_samples_split\", 5)\n",
    "  mlflow.log_metric(\"accuracy\", accuracy)\n",
    "  mlflow.sklearn.log_model(dtc, \"model\")\n",
    "  modelpath = \"/Users/piyush/Desktop/dsml_Portfolio/visa/models/model-%s-%f\" % (\"decision_tree\", 3)\n",
    "  mlflow.sklearn.save_model(dtc, modelpath)  "
   ]
  },
  {
   "cell_type": "code",
   "execution_count": null,
   "id": "9ee172a7",
   "metadata": {},
   "outputs": [
    {
     "name": "stdout",
     "output_type": "stream",
     "text": [
      "0.9736842105263158\n"
     ]
    }
   ],
   "source": [
    "with mlflow.start_run():\n",
    "  knn = KNeighborsClassifier(n_neighbors=5)\n",
    "  knn.fit(X_train, y_train)\n",
    "  y_pred = knn.predict(X_test)\n",
    "  accuracy=metrics.accuracy_score(y_test, y_pred)\n",
    "  print(accuracy)\n",
    "  \n",
    "  mlflow.log_param(\"n_neighbors\", 5)\n",
    "  mlflow.log_metric(\"accuracy\", accuracy)\n",
    "  mlflow.sklearn.log_model(knn, \"model\")\n",
    "  modelpath = \"/Users/piyush/Desktop/dsml_Portfolio/visa/models/model-%s-%f\" % (\"KNN\", 4)\n",
    "  mlflow.sklearn.save_model(knn, modelpath)  "
   ]
  },
  {
   "cell_type": "code",
   "execution_count": null,
   "id": "0a0e5d06",
   "metadata": {},
   "outputs": [
    {
     "name": "stdout",
     "output_type": "stream",
     "text": [
      "0.9473684210526315\n"
     ]
    }
   ],
   "source": [
    "with mlflow.start_run():\n",
    "  knn = KNeighborsClassifier(n_neighbors=2)\n",
    "  knn.fit(X_train, y_train)\n",
    "  y_pred = knn.predict(X_test)\n",
    "  accuracy=metrics.accuracy_score(y_test, y_pred)\n",
    "  print(accuracy)\n",
    "  \n",
    "  mlflow.log_param(\"n_neighbors\", 2)\n",
    "  mlflow.log_metric(\"accuracy\", accuracy)\n",
    "  mlflow.sklearn.log_model(knn, \"model\")\n",
    "  modelpath = \"/Users/piyush/Desktop/dsml_Portfolio/visa/models/model-%s-%f\" % (\"KNN\", 5)\n",
    "  mlflow.sklearn.save_model(knn, modelpath)"
   ]
  },
  {
   "cell_type": "code",
   "execution_count": null,
   "id": "9d2ca1ec",
   "metadata": {},
   "outputs": [],
   "source": []
  },
  {
   "cell_type": "code",
   "execution_count": null,
   "id": "73798b30",
   "metadata": {},
   "outputs": [],
   "source": []
  },
  {
   "cell_type": "code",
   "execution_count": null,
   "id": "c7679bfb",
   "metadata": {},
   "outputs": [],
   "source": []
  },
  {
   "cell_type": "code",
   "execution_count": null,
   "id": "85d71bf5",
   "metadata": {},
   "outputs": [],
   "source": []
  },
  {
   "cell_type": "code",
   "execution_count": null,
   "id": "0f96977d",
   "metadata": {},
   "outputs": [],
   "source": []
  }
 ],
 "metadata": {
  "kernelspec": {
   "display_name": "Python 3.9.12 ('visa': venv)",
   "language": "python",
   "name": "python3"
  },
  "language_info": {
   "codemirror_mode": {
    "name": "ipython",
    "version": 3
   },
   "file_extension": ".py",
   "mimetype": "text/x-python",
   "name": "python",
   "nbconvert_exporter": "python",
   "pygments_lexer": "ipython3",
   "version": "3.9.12"
  },
  "vscode": {
   "interpreter": {
    "hash": "4d13b7a8a14daaf378b0ce6f841b56bee658cc4951698355cc9e2ea886b41241"
   }
  }
 },
 "nbformat": 4,
 "nbformat_minor": 5
}
